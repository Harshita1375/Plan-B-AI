{
 "cells": [
  {
   "cell_type": "code",
   "execution_count": 1,
   "id": "607cfcae",
   "metadata": {},
   "outputs": [],
   "source": [
    "import pandas as pd \n",
    "import numpy as np\n",
    "import os\n",
    "import pickle"
   ]
  },
  {
   "cell_type": "code",
   "execution_count": 2,
   "id": "1e2c1ff5",
   "metadata": {},
   "outputs": [],
   "source": [
    "filename = \"final_model.sav\"\n",
    "\n",
    "with open(filename, 'rb') as f:\n",
    "    predict = pickle.load(f)"
   ]
  },
  {
   "cell_type": "code",
   "execution_count": 4,
   "id": "a55caa0d",
   "metadata": {},
   "outputs": [
    {
     "data": {
      "text/html": [
       "<div>\n",
       "<style scoped>\n",
       "    .dataframe tbody tr th:only-of-type {\n",
       "        vertical-align: middle;\n",
       "    }\n",
       "\n",
       "    .dataframe tbody tr th {\n",
       "        vertical-align: top;\n",
       "    }\n",
       "\n",
       "    .dataframe thead th {\n",
       "        text-align: right;\n",
       "    }\n",
       "</style>\n",
       "<table border=\"1\" class=\"dataframe\">\n",
       "  <thead>\n",
       "    <tr style=\"text-align: right;\">\n",
       "      <th></th>\n",
       "      <th>Total CGPA</th>\n",
       "      <th>Logical quotient rating</th>\n",
       "      <th>hackathons</th>\n",
       "      <th>coding skills rating</th>\n",
       "      <th>public speaking points</th>\n",
       "      <th>can work long time before system?</th>\n",
       "      <th>self-learning capability?</th>\n",
       "      <th>certifications</th>\n",
       "      <th>reading and writing skills</th>\n",
       "      <th>memory capability score</th>\n",
       "      <th>...</th>\n",
       "      <th>interested career area</th>\n",
       "      <th>Job/Higher Studies?</th>\n",
       "      <th>Type of company want to settle in?</th>\n",
       "      <th>interested in games</th>\n",
       "      <th>Interested Type of Books</th>\n",
       "      <th>Salary Range Expected</th>\n",
       "      <th>Gentle or Tuff behaviour?</th>\n",
       "      <th>Management or Technical</th>\n",
       "      <th>worked in teams ever?</th>\n",
       "      <th>Introvert</th>\n",
       "    </tr>\n",
       "  </thead>\n",
       "  <tbody>\n",
       "    <tr>\n",
       "      <th>0</th>\n",
       "      <td>8.300000</td>\n",
       "      <td>7</td>\n",
       "      <td>5</td>\n",
       "      <td>6</td>\n",
       "      <td>7</td>\n",
       "      <td>yes</td>\n",
       "      <td>yes</td>\n",
       "      <td>machine learning</td>\n",
       "      <td>excellent</td>\n",
       "      <td>medium</td>\n",
       "      <td>...</td>\n",
       "      <td>Business process analyst</td>\n",
       "      <td>higherstudies</td>\n",
       "      <td>Product based</td>\n",
       "      <td>no</td>\n",
       "      <td>Mystery</td>\n",
       "      <td>gentle</td>\n",
       "      <td>Management</td>\n",
       "      <td>salary</td>\n",
       "      <td>smart worker</td>\n",
       "      <td>yes</td>\n",
       "    </tr>\n",
       "    <tr>\n",
       "      <th>1</th>\n",
       "      <td>7.966667</td>\n",
       "      <td>4</td>\n",
       "      <td>0</td>\n",
       "      <td>4</td>\n",
       "      <td>8</td>\n",
       "      <td>yes</td>\n",
       "      <td>yes</td>\n",
       "      <td>shell programming</td>\n",
       "      <td>excellent</td>\n",
       "      <td>excellent</td>\n",
       "      <td>...</td>\n",
       "      <td>system developer</td>\n",
       "      <td>higherstudies</td>\n",
       "      <td>Web Services</td>\n",
       "      <td>no</td>\n",
       "      <td>Prayer books</td>\n",
       "      <td>salary</td>\n",
       "      <td>stubborn</td>\n",
       "      <td>Management</td>\n",
       "      <td>yes</td>\n",
       "      <td>no</td>\n",
       "    </tr>\n",
       "    <tr>\n",
       "      <th>2</th>\n",
       "      <td>7.355556</td>\n",
       "      <td>7</td>\n",
       "      <td>1</td>\n",
       "      <td>2</td>\n",
       "      <td>3</td>\n",
       "      <td>yes</td>\n",
       "      <td>no</td>\n",
       "      <td>machine learning</td>\n",
       "      <td>poor</td>\n",
       "      <td>medium</td>\n",
       "      <td>...</td>\n",
       "      <td>Business process analyst</td>\n",
       "      <td>job</td>\n",
       "      <td>SAaS services</td>\n",
       "      <td>yes</td>\n",
       "      <td>Childrens</td>\n",
       "      <td>salary</td>\n",
       "      <td>gentle</td>\n",
       "      <td>Technical</td>\n",
       "      <td>no</td>\n",
       "      <td>yes</td>\n",
       "    </tr>\n",
       "    <tr>\n",
       "      <th>3</th>\n",
       "      <td>7.944444</td>\n",
       "      <td>1</td>\n",
       "      <td>4</td>\n",
       "      <td>1</td>\n",
       "      <td>3</td>\n",
       "      <td>yes</td>\n",
       "      <td>no</td>\n",
       "      <td>app development</td>\n",
       "      <td>poor</td>\n",
       "      <td>excellent</td>\n",
       "      <td>...</td>\n",
       "      <td>developer</td>\n",
       "      <td>higherstudies</td>\n",
       "      <td>Sales and Marketing</td>\n",
       "      <td>yes</td>\n",
       "      <td>Travel</td>\n",
       "      <td>Work</td>\n",
       "      <td>stubborn</td>\n",
       "      <td>Management</td>\n",
       "      <td>no</td>\n",
       "      <td>yes</td>\n",
       "    </tr>\n",
       "    <tr>\n",
       "      <th>4</th>\n",
       "      <td>7.644444</td>\n",
       "      <td>1</td>\n",
       "      <td>1</td>\n",
       "      <td>2</td>\n",
       "      <td>5</td>\n",
       "      <td>no</td>\n",
       "      <td>yes</td>\n",
       "      <td>python</td>\n",
       "      <td>medium</td>\n",
       "      <td>excellent</td>\n",
       "      <td>...</td>\n",
       "      <td>testing</td>\n",
       "      <td>higherstudies</td>\n",
       "      <td>Testing and Maintainance Services</td>\n",
       "      <td>no</td>\n",
       "      <td>Romance</td>\n",
       "      <td>Work</td>\n",
       "      <td>gentle</td>\n",
       "      <td>Management</td>\n",
       "      <td>yes</td>\n",
       "      <td>yes</td>\n",
       "    </tr>\n",
       "  </tbody>\n",
       "</table>\n",
       "<p>5 rows × 21 columns</p>\n",
       "</div>"
      ],
      "text/plain": [
       "   Total CGPA  Logical quotient rating  hackathons  coding skills rating  \\\n",
       "0    8.300000                        7           5                     6   \n",
       "1    7.966667                        4           0                     4   \n",
       "2    7.355556                        7           1                     2   \n",
       "3    7.944444                        1           4                     1   \n",
       "4    7.644444                        1           1                     2   \n",
       "\n",
       "   public speaking points can work long time before system?  \\\n",
       "0                       7                               yes   \n",
       "1                       8                               yes   \n",
       "2                       3                               yes   \n",
       "3                       3                               yes   \n",
       "4                       5                                no   \n",
       "\n",
       "  self-learning capability?     certifications reading and writing skills  \\\n",
       "0                       yes   machine learning                  excellent   \n",
       "1                       yes  shell programming                  excellent   \n",
       "2                        no   machine learning                       poor   \n",
       "3                        no    app development                       poor   \n",
       "4                       yes             python                     medium   \n",
       "\n",
       "  memory capability score  ...    interested career area Job/Higher Studies?  \\\n",
       "0                  medium  ...  Business process analyst       higherstudies   \n",
       "1               excellent  ...          system developer       higherstudies   \n",
       "2                  medium  ...  Business process analyst                 job   \n",
       "3               excellent  ...                 developer       higherstudies   \n",
       "4               excellent  ...                   testing       higherstudies   \n",
       "\n",
       "  Type of company want to settle in? interested in games  \\\n",
       "0                      Product based                  no   \n",
       "1                       Web Services                  no   \n",
       "2                      SAaS services                 yes   \n",
       "3                Sales and Marketing                 yes   \n",
       "4  Testing and Maintainance Services                  no   \n",
       "\n",
       "  Interested Type of Books Salary Range Expected Gentle or Tuff behaviour?  \\\n",
       "0                  Mystery                gentle                Management   \n",
       "1             Prayer books                salary                  stubborn   \n",
       "2                Childrens                salary                    gentle   \n",
       "3                   Travel                  Work                  stubborn   \n",
       "4                  Romance                  Work                    gentle   \n",
       "\n",
       "  Management or Technical worked in teams ever? Introvert  \n",
       "0                  salary          smart worker       yes  \n",
       "1              Management                   yes        no  \n",
       "2               Technical                    no       yes  \n",
       "3              Management                    no       yes  \n",
       "4              Management                   yes       yes  \n",
       "\n",
       "[5 rows x 21 columns]"
      ]
     },
     "execution_count": 4,
     "metadata": {},
     "output_type": "execute_result"
    }
   ],
   "source": [
    "x=pd.read_csv(\"pre_processed_data.csv\")\n",
    "x.head()"
   ]
  },
  {
   "cell_type": "code",
   "execution_count": 28,
   "id": "f83a2a3f",
   "metadata": {},
   "outputs": [
    {
     "name": "stdout",
     "output_type": "stream",
     "text": [
      "<class 'pandas.core.frame.DataFrame'>\n",
      "Int64Index: 20002 entries, 0 to 20001\n",
      "Data columns (total 21 columns):\n",
      " #   Column                              Non-Null Count  Dtype  \n",
      "---  ------                              --------------  -----  \n",
      " 0   Total CGPA                          20002 non-null  float64\n",
      " 1   Logical quotient rating             20002 non-null  int64  \n",
      " 2   hackathons                          20002 non-null  int64  \n",
      " 3   coding skills rating                20002 non-null  int64  \n",
      " 4   public speaking points              20002 non-null  int64  \n",
      " 5   can work long time before system?   20002 non-null  object \n",
      " 6   self-learning capability?           20002 non-null  object \n",
      " 7   certifications                      20002 non-null  object \n",
      " 8   reading and writing skills          20002 non-null  object \n",
      " 9   memory capability score             20002 non-null  object \n",
      " 10  Interested subjects                 20002 non-null  object \n",
      " 11  interested career area              20002 non-null  object \n",
      " 12  Job/Higher Studies?                 20002 non-null  object \n",
      " 13  Type of company want to settle in?  20002 non-null  object \n",
      " 14  interested in games                 20002 non-null  object \n",
      " 15  Interested Type of Books            20002 non-null  object \n",
      " 16  Salary Range Expected               20002 non-null  object \n",
      " 17  Gentle or Tuff behaviour?           20002 non-null  object \n",
      " 18  Management or Technical             20002 non-null  object \n",
      " 19  worked in teams ever?               20002 non-null  object \n",
      " 20  Introvert                           20002 non-null  object \n",
      "dtypes: float64(1), int64(4), object(16)\n",
      "memory usage: 3.4+ MB\n"
     ]
    }
   ],
   "source": [
    "x.info()"
   ]
  },
  {
   "cell_type": "code",
   "execution_count": 5,
   "id": "472a6129",
   "metadata": {},
   "outputs": [
    {
     "data": {
      "text/plain": [
       "(20002, 21)"
      ]
     },
     "execution_count": 5,
     "metadata": {},
     "output_type": "execute_result"
    }
   ],
   "source": [
    "x.loc[-1]=values = [\n",
    "    8.3,\n",
    "    7,\n",
    "    5,      \n",
    "    6,\n",
    "    7,\n",
    "    'yes',\n",
    "    'yes',\n",
    "    'machine learning',\n",
    "    'excellent',\n",
    "    'medium',\n",
    "    'Management',\n",
    "    'Business process analyst',\n",
    "    'higherstudies',\n",
    "    'Product based',\n",
    "    'no',\n",
    "    'Mystery',\n",
    "    'gentle',\n",
    "    'Management',\n",
    "    'salary',\n",
    "    'smart worker',\n",
    "    'yes'\n",
    "]\n",
    "x.index=x.index+1\n",
    "x=x.sort_index()\n",
    "x.shape"
   ]
  },
  {
   "cell_type": "code",
   "execution_count": 10,
   "id": "6566e6bf",
   "metadata": {},
   "outputs": [
    {
     "data": {
      "text/plain": [
       "array(['Technical Support/Service'], dtype='<U36')"
      ]
     },
     "execution_count": 10,
     "metadata": {},
     "output_type": "execute_result"
    }
   ],
   "source": [
    "from sklearn.preprocessing import OneHotEncoder, StandardScaler\n",
    "from scipy import sparse\n",
    "\n",
    "new_data = OneHotEncoder().fit_transform(x)\n",
    "new_data = StandardScaler(with_mean=False).fit_transform(new_data)\n",
    "new_data = sparse.csr_matrix.copy(new_data)\n",
    "output=predict.predict(new_data[1])\n",
    "output"
   ]
  },
  {
   "cell_type": "code",
   "execution_count": 12,
   "id": "2fd14d4e",
   "metadata": {},
   "outputs": [
    {
     "data": {
      "text/plain": [
       "array([[2.23856909e-05, 1.14294761e-02, 9.25252001e-06, 1.06876010e-04,\n",
       "        5.12140694e-02, 8.16907954e-11, 2.65516744e-12, 1.30718812e-12,\n",
       "        9.37096397e-01, 4.60242478e-06, 1.16940788e-04]])"
      ]
     },
     "execution_count": 12,
     "metadata": {},
     "output_type": "execute_result"
    }
   ],
   "source": [
    "pred_prob=predict.predict_proba(new_data[1])\n",
    "pred_prob"
   ]
  },
  {
   "cell_type": "code",
   "execution_count": null,
   "id": "6e2d4c34",
   "metadata": {},
   "outputs": [],
   "source": [
    "import json\n",
    "\n",
    "# Data dictionary\n",
    "job_categories = {\n",
    "    \"CRM_Managerial_Roles\": ['CRM Business Analyst', 'CRM Technical Developer', 'Project Manager', 'Information Technology Manager'],\n",
    "    \"Analyst\": ['Business Systems Analyst', 'Business Intelligence Analyst', 'E-Commerce Analyst'],\n",
    "    \"Mobile_Applications_Web_Development\": ['Mobile Applications Developer', 'Web Developer', 'Applications Developer'],\n",
    "    \"QA_Testing\": ['Software Quality Assurance (QA) / Testing', 'Quality Assurance Associate'],\n",
    "    \"UX_Design\": ['UX Designer', 'Design & UX'],\n",
    "    \"Databases\": ['Database Developer', 'Database Administrator', 'Database Manager', 'Portal Administrator'],\n",
    "    \"Programming_Systems_Analyst\": ['Programmer Analyst', 'Systems Analyst'],\n",
    "    \"Networks_Systems\": ['Network Security Administrator', 'Network Security Engineer', 'Network Engineer',\n",
    "                         'Systems Security Administrator', 'Software Systems Engineer', 'Information Security Analyst'],\n",
    "    \"SE_SDE\": ['Software Engineer', 'Software Developer'],\n",
    "    \"Technical_Support_Service\": ['Technical Engineer', 'Technical Services/Help Desk/Tech Support', 'Technical Support'],\n",
    "    \"others\": ['Solutions Architect', 'Data Architect', 'Information Technology Auditor']\n",
    "}\n",
    "\n",
    "# Save to JSON file\n",
    "with open(\"job_categories.json\", \"w\") as f:\n",
    "    json.dump(job_categories, f, indent=4)\n"
   ]
  },
  {
   "cell_type": "code",
   "execution_count": 25,
   "id": "364130a7",
   "metadata": {},
   "outputs": [
    {
     "name": "stdout",
     "output_type": "stream",
     "text": [
      "['CRM Business Analyst', 'CRM Technical Developer', 'Project Manager', 'Information Technology Manager']\n"
     ]
    }
   ],
   "source": [
    "import json\n",
    "\n",
    "with open(\"job_categories.json\", \"r\") as f:\n",
    "    job_categories = json.load(f)\n",
    "\n",
    "# Example usage:\n",
    "cat = job_categories.get('CRM_Managerial_Roles')\n",
    "print(cat)\n"
   ]
  },
  {
   "cell_type": "code",
   "execution_count": 26,
   "id": "98fe970e",
   "metadata": {},
   "outputs": [],
   "source": [
    "if output[0] == 'CRM/Managerial Roles':\n",
    "    cat=CRM_Managerial_Roles\n",
    "elif output[0] == 'Analyst':\n",
    "    cat=Analyst\n",
    "elif output[0] == 'Mobile Applications/ Web Development':\n",
    "    cat=Mobile_Applications_Web_Development\n",
    "elif output[0] == 'QA/Testing':\n",
    "    cat=QA_Testing\n",
    "elif output[0] == 'UX/Design':\n",
    "    cat=UX_Design\n",
    "elif output[0] == 'Databases':\n",
    "    cat=Databases\n",
    "elif output[0] == 'Programming/ Systems Analyst':\n",
    "    cat=Programming_Systems_Analyst\n",
    "elif output[0] == 'Networks/ Systems':\n",
    "    cat=Networks_Systems\n",
    "elif output[0] == 'SE/SDE':\n",
    "    cat=SE_SDE\n",
    "elif output[0] == 'Technical Support/Service':\n",
    "    cat=Technical_Support_Service\n",
    "else:\n",
    "    cat=others"
   ]
  },
  {
   "cell_type": "code",
   "execution_count": 27,
   "id": "c2f1fa10",
   "metadata": {},
   "outputs": [
    {
     "name": "stdout",
     "output_type": "stream",
     "text": [
      "suggested job role catogory is: ' Technical Support/Service '\n",
      "\n",
      "possible job roles in the suggested category are:\n",
      "Technical Engineer\n",
      "Technical Services/Help Desk/Tech Support\n",
      "Technical Support\n"
     ]
    }
   ],
   "source": [
    "print(\"suggested job role catogory is: '\",output[0],\"'\")\n",
    "print()\n",
    "print(\"possible job roles in the suggested category are:\")\n",
    "for i in cat:\n",
    "    print(i)"
   ]
  },
  {
   "cell_type": "code",
   "execution_count": null,
   "id": "dca63543",
   "metadata": {},
   "outputs": [],
   "source": []
  }
 ],
 "metadata": {
  "kernelspec": {
   "display_name": "Python 3",
   "language": "python",
   "name": "python3"
  },
  "language_info": {
   "codemirror_mode": {
    "name": "ipython",
    "version": 3
   },
   "file_extension": ".py",
   "mimetype": "text/x-python",
   "name": "python",
   "nbconvert_exporter": "python",
   "pygments_lexer": "ipython3",
   "version": "3.10.9"
  }
 },
 "nbformat": 4,
 "nbformat_minor": 5
}
